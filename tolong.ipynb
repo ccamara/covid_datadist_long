{
 "nbformat": 4,
 "nbformat_minor": 2,
 "metadata": {
  "language_info": {
   "name": "python",
   "codemirror_mode": {
    "name": "ipython",
    "version": 3
   },
   "version": "3.7.6-final"
  },
  "orig_nbformat": 2,
  "file_extension": ".py",
  "mimetype": "text/x-python",
  "name": "python",
  "npconvert_exporter": "python",
  "pygments_lexer": "ipython3",
  "version": 3,
  "kernelspec": {
   "name": "python37664bit7f704ecc68c44d00b27dbad0272d105c",
   "display_name": "Python 3.7.6 64-bit"
  }
 },
 "cells": [
  {
   "cell_type": "code",
   "execution_count": 1,
   "metadata": {},
   "outputs": [
    {
     "output_type": "execute_result",
     "data": {
      "text/plain": "    cod_ine        CCAA       fecha  total\n0        01   Andalucía  27/02/2020      1\n1        02      Aragón  27/02/2020      0\n2        03    Asturias  27/02/2020      0\n3        04    Baleares  27/02/2020      1\n4        05    Canarias  27/02/2020      6\n..      ...         ...         ...    ...\n495      14      Murcia  22/03/2020    296\n496      15     Navarra  22/03/2020    794\n497      16  País Vasco  22/03/2020   2097\n498      17    La Rioja  22/03/2020    654\n499      00       Total  22/03/2020  28572\n\n[500 rows x 4 columns]",
      "text/html": "<div>\n<style scoped>\n    .dataframe tbody tr th:only-of-type {\n        vertical-align: middle;\n    }\n\n    .dataframe tbody tr th {\n        vertical-align: top;\n    }\n\n    .dataframe thead th {\n        text-align: right;\n    }\n</style>\n<table border=\"1\" class=\"dataframe\">\n  <thead>\n    <tr style=\"text-align: right;\">\n      <th></th>\n      <th>cod_ine</th>\n      <th>CCAA</th>\n      <th>fecha</th>\n      <th>total</th>\n    </tr>\n  </thead>\n  <tbody>\n    <tr>\n      <th>0</th>\n      <td>01</td>\n      <td>Andalucía</td>\n      <td>27/02/2020</td>\n      <td>1</td>\n    </tr>\n    <tr>\n      <th>1</th>\n      <td>02</td>\n      <td>Aragón</td>\n      <td>27/02/2020</td>\n      <td>0</td>\n    </tr>\n    <tr>\n      <th>2</th>\n      <td>03</td>\n      <td>Asturias</td>\n      <td>27/02/2020</td>\n      <td>0</td>\n    </tr>\n    <tr>\n      <th>3</th>\n      <td>04</td>\n      <td>Baleares</td>\n      <td>27/02/2020</td>\n      <td>1</td>\n    </tr>\n    <tr>\n      <th>4</th>\n      <td>05</td>\n      <td>Canarias</td>\n      <td>27/02/2020</td>\n      <td>6</td>\n    </tr>\n    <tr>\n      <th>...</th>\n      <td>...</td>\n      <td>...</td>\n      <td>...</td>\n      <td>...</td>\n    </tr>\n    <tr>\n      <th>495</th>\n      <td>14</td>\n      <td>Murcia</td>\n      <td>22/03/2020</td>\n      <td>296</td>\n    </tr>\n    <tr>\n      <th>496</th>\n      <td>15</td>\n      <td>Navarra</td>\n      <td>22/03/2020</td>\n      <td>794</td>\n    </tr>\n    <tr>\n      <th>497</th>\n      <td>16</td>\n      <td>País Vasco</td>\n      <td>22/03/2020</td>\n      <td>2097</td>\n    </tr>\n    <tr>\n      <th>498</th>\n      <td>17</td>\n      <td>La Rioja</td>\n      <td>22/03/2020</td>\n      <td>654</td>\n    </tr>\n    <tr>\n      <th>499</th>\n      <td>00</td>\n      <td>Total</td>\n      <td>22/03/2020</td>\n      <td>28572</td>\n    </tr>\n  </tbody>\n</table>\n<p>500 rows × 4 columns</p>\n</div>"
     },
     "metadata": {},
     "execution_count": 1
    }
   ],
   "source": [
    "import pandas as pd\n",
    "\n",
    "df = pd.read_csv(\"https://raw.githubusercontent.com/datadista/datasets/master/COVID%2019/ccaa_covid19_casos.csv\", converters={'cod_ine': lambda x: str(x)})\n",
    "\n",
    "df_long = pd.melt(df, id_vars=[\"cod_ine\", \"CCAA\"], var_name=\"fecha\", value_name=\"total\")\n",
    "\n",
    "df_long\n",
    ""
   ]
  },
  {
   "cell_type": "code",
   "execution_count": null,
   "metadata": {},
   "outputs": [],
   "source": []
  }
 ]
}